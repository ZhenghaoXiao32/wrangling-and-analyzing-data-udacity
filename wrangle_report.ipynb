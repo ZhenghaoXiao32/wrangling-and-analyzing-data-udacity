{
 "cells": [
  {
   "cell_type": "markdown",
   "metadata": {},
   "source": [
    "# Wrangle Report"
   ]
  },
  {
   "cell_type": "markdown",
   "metadata": {},
   "source": [
    "* **\n",
    "## 1. Introduction\n",
    "* **"
   ]
  },
  {
   "cell_type": "markdown",
   "metadata": {},
   "source": [
    "Data preparation is always the hardest part of a data analyst's work flow, in this project, we will use the data wrangling skills to pull real-world data from Twitter, clean it, and do some analysis. We will get the original Twitter data from Twitter user @dog_rates, along with a image prediction dataset, to build our analysis. \n",
    "\n",
    "WeRateDogs is a popular Twitter hash tag, as the name tells, people rate dogs with a denominator of 10 and the numerator is usually higher than 10 to show how lovely the dog is."
   ]
  },
  {
   "cell_type": "markdown",
   "metadata": {},
   "source": [
    "## 2. Gathering data\n",
    "* **"
   ]
  },
  {
   "cell_type": "markdown",
   "metadata": {},
   "source": [
    "The data was gathered from three sources:\n",
    "* **Enhanced Twitter archive**: This part is kind of on-hand data, stored in the twitter_archive_enhanced.csv\n",
    "\n",
    "* **Image prediction**: We get the image prediction data from web scraping \n",
    "\n",
    "* **Twitter API**: This dataset is archived from Twitter's API and parsed from JSON to csv"
   ]
  },
  {
   "cell_type": "markdown",
   "metadata": {},
   "source": [
    "## 3. Assessing Data\n",
    "* **"
   ]
  },
  {
   "cell_type": "markdown",
   "metadata": {},
   "source": [
    "After assessing the datasets, I summarized several quality and tidiness problems of them:"
   ]
  },
  {
   "cell_type": "markdown",
   "metadata": {},
   "source": [
    "**Quality problems**:\n",
    "* **tweet_id**, **timestamp**: wrong data types\n",
    "* **source**: this column has a useless html structure that can be simplified\n",
    "* **expanded_urls**: multiple missing values\n",
    "* **rating_denominator**: Some of the denominator is not 10. One reason of that is some text contents has multiple number/number format, and the ratings only transform the first number/number into rating numerator and rating denominators which is not the rating but some thing like date/time. Another reason is that some of the of the posted image contains more than one dog, so they will rate 10 dogs based on a denominator of 100. \n",
    "* **rating_numerator**: Some of the numerator is too big. Besides the reasons listed in the denominator part, there is another reason: people just loves the dog so much that they give the dog a such a high rate. So basically, if we solved the problem in denominator part, we don't need to worry about the numerators.\n",
    "* **name**: this column has some missing values and some of the names are not real dog names but articles or adjectives.\n",
    "* **p1**, **p2**, **p3**: dog breed names are not all in lowercase"
   ]
  },
  {
   "cell_type": "markdown",
   "metadata": {},
   "source": [
    "**Tidiness problems**:\n",
    "* **doggo, floofer, pupper, puppo**: tidiness problem: columns themselves are values of a variable\n",
    "* **need to merge all the datasets**: merge the three datasets into one using inner join according to the tweet_id\n",
    "* **unnecessary columns to be deleted**: delete unnecessary columns to make the final dataset more neat and tidy."
   ]
  },
  {
   "cell_type": "markdown",
   "metadata": {},
   "source": [
    "## 4. Cleaning data\n",
    "***"
   ]
  },
  {
   "cell_type": "markdown",
   "metadata": {},
   "source": [
    "The data quality and tidiness problems mentioned above was cleaned by multiple methods including pandas join, regular expression, combining multiple columns, pandas subsetting, removing missing values and so on.\n",
    "\n",
    "In the end of this part, I stored the cleaned version of the data into a csv file for future usage."
   ]
  },
  {
   "cell_type": "markdown",
   "metadata": {},
   "source": [
    "## 5. Conclusion\n",
    "***"
   ]
  },
  {
   "cell_type": "markdown",
   "metadata": {},
   "source": [
    "This data wrangling project is a good practice of what I learned in the course, I've struggled to find subtle data problems, and cleaned those hard, time-consuming data quality problems. The hardest part of this project is the dealing with strings by using regular expressions.\n",
    "\n",
    "In the end, I'm able to build a well-structured wrangling processing notebook with details in every part: exhaustive steps in how I gathered, assessed, and cleaned the data with every problem and its solving process illustrated.\n",
    "\n",
    "The analyzing and visualizing part will be in another file called act_report.html"
   ]
  }
 ],
 "metadata": {
  "kernelspec": {
   "display_name": "Python [conda env:my_env] *",
   "language": "python",
   "name": "conda-env-my_env-py"
  },
  "language_info": {
   "codemirror_mode": {
    "name": "ipython",
    "version": 3
   },
   "file_extension": ".py",
   "mimetype": "text/x-python",
   "name": "python",
   "nbconvert_exporter": "python",
   "pygments_lexer": "ipython3",
   "version": "3.7.3"
  },
  "toc": {
   "base_numbering": 1,
   "nav_menu": {},
   "number_sections": false,
   "sideBar": true,
   "skip_h1_title": false,
   "title_cell": "Table of Contents",
   "title_sidebar": "Contents",
   "toc_cell": false,
   "toc_position": {},
   "toc_section_display": true,
   "toc_window_display": false
  },
  "varInspector": {
   "cols": {
    "lenName": 16,
    "lenType": 16,
    "lenVar": 40
   },
   "kernels_config": {
    "python": {
     "delete_cmd_postfix": "",
     "delete_cmd_prefix": "del ",
     "library": "var_list.py",
     "varRefreshCmd": "print(var_dic_list())"
    },
    "r": {
     "delete_cmd_postfix": ") ",
     "delete_cmd_prefix": "rm(",
     "library": "var_list.r",
     "varRefreshCmd": "cat(var_dic_list()) "
    }
   },
   "types_to_exclude": [
    "module",
    "function",
    "builtin_function_or_method",
    "instance",
    "_Feature"
   ],
   "window_display": false
  }
 },
 "nbformat": 4,
 "nbformat_minor": 2
}
